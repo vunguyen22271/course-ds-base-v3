{
 "cells": [
  {
   "cell_type": "markdown",
   "metadata": {},
   "source": [
    "# Add DVC remote\n",
    "\n",
    "Add `local` as a defult DVC remote storage \n",
    "\n",
    "```bash\n",
    "dvc remote add -d local /tmp/dvc/course-ds-base\n",
    "git add .dvc/config\n",
    "git commit -m \"Add dvc remote - local\"\n",
    "```"
   ]
  },
  {
   "cell_type": "markdown",
   "metadata": {},
   "source": [
    "# Reproduce pipeline\n",
    "\n",
    "Pipeline is up to date. Nothing to reproduce.\n",
    "\n",
    "```bash\n",
    "dvc repro\n",
    "```"
   ]
  },
  {
   "cell_type": "markdown",
   "metadata": {},
   "source": [
    "# Push data to a remote DVC storage\n",
    "\n",
    "Push data to the remote storage\n",
    "\n",
    "```bash\n",
    "dvc push\n",
    "```\n"
   ]
  },
  {
   "cell_type": "markdown",
   "metadata": {},
   "source": [
    "# Pull data from DVC remote\n",
    "\n",
    "1. Clear dvc cache\n",
    "\n",
    "```bash\n",
    "rm -rf .dvc/cache\n",
    "```\n",
    "\n",
    "2. Pull data\n",
    "\n",
    "\n",
    "```bash\n",
    "dvc pull\n",
    "```"
   ]
  },
  {
   "cell_type": "markdown",
   "metadata": {},
   "source": [
    "# Create new experiment\n",
    "\n",
    "1. Change some parameter(s) in `params.yaml`, e.g.\n",
    "\n",
    "`params.yaml`\n",
    "```yaml\n",
    "\n",
    "train:\n",
    "  cv: 5\n",
    "  estimator_name: svm\n",
    "```\n",
    "\n",
    "2. Reproduce pipeline\n",
    "\n",
    "```bash\n",
    "dvc repro\n",
    "```\n",
    "\n",
    "3. Push new version of data to remote\n",
    "\n",
    "```bash\n",
    "dvc push\n",
    "```\n",
    "\n",
    "4. Restore previous params values and try to repoduce DVC pipeline again\n",
    "\n",
    "```bash\n",
    "dvc repro\n",
    "```\n",
    "\n",
    "Now you'll see that data and runs was cached and pipeline won't be executed."
   ]
  },
  {
   "cell_type": "markdown",
   "metadata": {},
   "source": [
    "# Commit and push changes\n",
    "\n",
    "```bash\n",
    "git add dvc.lock\n",
    "git commit -m \"Reproduce DVC pipeline\"\n",
    "```"
   ]
  },
  {
   "cell_type": "code",
   "execution_count": null,
   "metadata": {},
   "outputs": [],
   "source": []
  }
 ],
 "metadata": {
  "kernelspec": {
   "display_name": "Python 3 (ipykernel)",
   "language": "python",
   "name": "python3"
  },
  "language_info": {
   "codemirror_mode": {
    "name": "ipython",
    "version": 3
   },
   "file_extension": ".py",
   "mimetype": "text/x-python",
   "name": "python",
   "nbconvert_exporter": "python",
   "pygments_lexer": "ipython3",
   "version": "3.8.10"
  },
  "toc": {
   "base_numbering": 1,
   "nav_menu": {},
   "number_sections": true,
   "sideBar": true,
   "skip_h1_title": false,
   "title_cell": "Table of Contents",
   "title_sidebar": "Contents",
   "toc_cell": false,
   "toc_position": {},
   "toc_section_display": true,
   "toc_window_display": true
  },
  "varInspector": {
   "cols": {
    "lenName": 16,
    "lenType": 16,
    "lenVar": 40
   },
   "kernels_config": {
    "python": {
     "delete_cmd_postfix": "",
     "delete_cmd_prefix": "del ",
     "library": "var_list.py",
     "varRefreshCmd": "print(var_dic_list())"
    },
    "r": {
     "delete_cmd_postfix": ") ",
     "delete_cmd_prefix": "rm(",
     "library": "var_list.r",
     "varRefreshCmd": "cat(var_dic_list()) "
    }
   },
   "types_to_exclude": [
    "module",
    "function",
    "builtin_function_or_method",
    "instance",
    "_Feature"
   ],
   "window_display": false
  }
 },
 "nbformat": 4,
 "nbformat_minor": 4
}
