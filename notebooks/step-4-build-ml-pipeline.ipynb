{
 "cells": [
  {
   "cell_type": "code",
   "execution_count": null,
   "metadata": {
    "ExecuteTime": {
     "end_time": "2020-10-25T10:36:01.274676Z",
     "start_time": "2020-10-25T10:36:01.233317Z"
    }
   },
   "outputs": [],
   "source": [
    "%load_ext autoreload\n",
    "%autoreload 2\n",
    "\n",
    "import os\n",
    "import sys\n",
    "sys.path.append('../')"
   ]
  },
  {
   "cell_type": "code",
   "execution_count": null,
   "metadata": {
    "ExecuteTime": {
     "end_time": "2020-10-25T10:36:01.480140Z",
     "start_time": "2020-10-25T10:36:01.465253Z"
    }
   },
   "outputs": [],
   "source": [
    "# Set the repository root as a working directory \n",
    "\n",
    "%cd .."
   ]
  },
  {
   "cell_type": "markdown",
   "metadata": {},
   "source": [
    "# View `params.yaml` config"
   ]
  },
  {
   "cell_type": "code",
   "execution_count": null,
   "metadata": {
    "ExecuteTime": {
     "end_time": "2020-10-25T10:23:55.547898Z",
     "start_time": "2020-10-25T10:23:55.522906Z"
    },
    "scrolled": true
   },
   "outputs": [],
   "source": [
    "# Look on stages config \n",
    "\n",
    "!cat params.yaml"
   ]
  },
  {
   "cell_type": "markdown",
   "metadata": {},
   "source": [
    "# Load data\n",
    "\n",
    "- src/stages/data_load.py"
   ]
  },
  {
   "cell_type": "markdown",
   "metadata": {},
   "source": [
    "## Run as Python function "
   ]
  },
  {
   "cell_type": "code",
   "execution_count": null,
   "metadata": {},
   "outputs": [],
   "source": []
  },
  {
   "cell_type": "code",
   "execution_count": null,
   "metadata": {
    "ExecuteTime": {
     "end_time": "2020-10-25T10:27:53.500242Z",
     "start_time": "2020-10-25T10:27:53.462937Z"
    },
    "scrolled": true
   },
   "outputs": [],
   "source": [
    "from src.stages.data_load import data_load\n",
    "\n",
    "data_load('params.yaml')"
   ]
  },
  {
   "cell_type": "markdown",
   "metadata": {},
   "source": [
    "## Run as Python module"
   ]
  },
  {
   "cell_type": "code",
   "execution_count": null,
   "metadata": {
    "ExecuteTime": {
     "end_time": "2020-10-25T10:27:55.871372Z",
     "start_time": "2020-10-25T10:27:54.438413Z"
    }
   },
   "outputs": [],
   "source": [
    "!python src/stages/data_load.py --config=params.yaml"
   ]
  },
  {
   "cell_type": "code",
   "execution_count": null,
   "metadata": {
    "ExecuteTime": {
     "end_time": "2020-10-25T10:27:56.017786Z",
     "start_time": "2020-10-25T10:27:55.977232Z"
    }
   },
   "outputs": [],
   "source": [
    "%%bash \n",
    "\n",
    "# Raw Iris dataset saved\n",
    "\n",
    "ls data/raw"
   ]
  },
  {
   "cell_type": "markdown",
   "metadata": {},
   "source": [
    "# Extract features\n",
    "\n",
    "- `src/stages/featurize.py`"
   ]
  },
  {
   "cell_type": "code",
   "execution_count": null,
   "metadata": {
    "ExecuteTime": {
     "end_time": "2020-10-25T10:27:58.106025Z",
     "start_time": "2020-10-25T10:27:57.536929Z"
    }
   },
   "outputs": [],
   "source": [
    "!python src/stages/featurize.py --config=params.yaml"
   ]
  },
  {
   "cell_type": "code",
   "execution_count": null,
   "metadata": {
    "ExecuteTime": {
     "end_time": "2020-10-25T10:28:17.731605Z",
     "start_time": "2020-10-25T10:28:17.583424Z"
    }
   },
   "outputs": [],
   "source": [
    "# Features.csv file has created\n",
    "\n",
    "!ls data/processed"
   ]
  },
  {
   "cell_type": "markdown",
   "metadata": {},
   "source": [
    "# Split train/test dataset\n",
    "\n",
    "- `src/stages/data_split.py`"
   ]
  },
  {
   "cell_type": "code",
   "execution_count": null,
   "metadata": {
    "ExecuteTime": {
     "end_time": "2020-10-25T10:28:44.583664Z",
     "start_time": "2020-10-25T10:28:43.317296Z"
    }
   },
   "outputs": [],
   "source": [
    "!python src/stages/data_split.py --config=params.yaml"
   ]
  },
  {
   "cell_type": "code",
   "execution_count": null,
   "metadata": {
    "ExecuteTime": {
     "end_time": "2020-10-25T10:29:28.643417Z",
     "start_time": "2020-10-25T10:29:28.499675Z"
    }
   },
   "outputs": [],
   "source": [
    "# Train and Test datsets have created\n",
    "\n",
    "!ls data/processed/"
   ]
  },
  {
   "cell_type": "markdown",
   "metadata": {},
   "source": [
    "# Train model\n",
    "\n",
    "- `src/stages/train.py`"
   ]
  },
  {
   "cell_type": "code",
   "execution_count": null,
   "metadata": {
    "ExecuteTime": {
     "end_time": "2020-10-25T10:29:33.151932Z",
     "start_time": "2020-10-25T10:29:32.010967Z"
    }
   },
   "outputs": [],
   "source": [
    "!python src/stages/train.py --config=params.yaml"
   ]
  },
  {
   "cell_type": "code",
   "execution_count": null,
   "metadata": {},
   "outputs": [],
   "source": [
    "# model is created\n",
    "!ls models/"
   ]
  },
  {
   "cell_type": "markdown",
   "metadata": {},
   "source": [
    "# Evaluate model \n",
    "\n",
    "- `src/stages/evaluate.py`"
   ]
  },
  {
   "cell_type": "code",
   "execution_count": null,
   "metadata": {
    "ExecuteTime": {
     "end_time": "2020-10-25T10:38:10.201770Z",
     "start_time": "2020-10-25T10:38:07.719011Z"
    }
   },
   "outputs": [],
   "source": [
    "!python src/stages/evaluate.py --config=params.yaml"
   ]
  },
  {
   "cell_type": "code",
   "execution_count": null,
   "metadata": {
    "ExecuteTime": {
     "end_time": "2020-10-25T10:38:11.927396Z",
     "start_time": "2020-10-25T10:38:11.786458Z"
    }
   },
   "outputs": [],
   "source": [
    "# metrics file metrics.json is created\n",
    "!ls reports"
   ]
  },
  {
   "cell_type": "code",
   "execution_count": null,
   "metadata": {
    "ExecuteTime": {
     "end_time": "2020-10-25T10:38:19.458249Z",
     "start_time": "2020-10-25T10:38:19.323808Z"
    }
   },
   "outputs": [],
   "source": [
    "!cat reports/metrics.json"
   ]
  },
  {
   "cell_type": "code",
   "execution_count": null,
   "metadata": {
    "ExecuteTime": {
     "end_time": "2020-10-25T10:38:51.059334Z",
     "start_time": "2020-10-25T10:38:51.043192Z"
    }
   },
   "outputs": [],
   "source": [
    "# Display confusion matrix\n",
    "\n",
    "from IPython.display import Image\n",
    "Image('reports/confusion_matrix.png')"
   ]
  }
 ],
 "metadata": {
  "interpreter": {
   "hash": "75b1920f9cbcc979e2f7542df3a177962ac1d8ba339eed6df458570447bf37f9"
  },
  "kernelspec": {
   "display_name": "Python 3.9.4 64-bit ('dvc-venv': venv)",
   "name": "python3"
  },
  "language_info": {
   "codemirror_mode": {
    "name": "ipython",
    "version": 3
   },
   "file_extension": ".py",
   "mimetype": "text/x-python",
   "name": "python",
   "nbconvert_exporter": "python",
   "pygments_lexer": "ipython3",
   "version": "3.9.4"
  },
  "toc": {
   "base_numbering": 1,
   "nav_menu": {},
   "number_sections": true,
   "sideBar": true,
   "skip_h1_title": false,
   "title_cell": "Table of Contents",
   "title_sidebar": "Contents",
   "toc_cell": false,
   "toc_position": {},
   "toc_section_display": true,
   "toc_window_display": true
  },
  "varInspector": {
   "cols": {
    "lenName": 16,
    "lenType": 16,
    "lenVar": 40
   },
   "kernels_config": {
    "python": {
     "delete_cmd_postfix": "",
     "delete_cmd_prefix": "del ",
     "library": "var_list.py",
     "varRefreshCmd": "print(var_dic_list())"
    },
    "r": {
     "delete_cmd_postfix": ") ",
     "delete_cmd_prefix": "rm(",
     "library": "var_list.r",
     "varRefreshCmd": "cat(var_dic_list()) "
    }
   },
   "types_to_exclude": [
    "module",
    "function",
    "builtin_function_or_method",
    "instance",
    "_Feature"
   ],
   "window_display": false
  }
 },
 "nbformat": 4,
 "nbformat_minor": 4
}
