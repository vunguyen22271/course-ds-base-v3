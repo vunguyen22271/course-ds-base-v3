{
 "cells": [
  {
   "cell_type": "code",
   "execution_count": null,
   "metadata": {
    "ExecuteTime": {
     "end_time": "2020-10-25T10:42:41.150806Z",
     "start_time": "2020-10-25T10:42:41.128741Z"
    }
   },
   "outputs": [],
   "source": [
    "# Set the repository root as a working directory \n",
    "%cd .."
   ]
  },
  {
   "cell_type": "markdown",
   "metadata": {},
   "source": [
    "# Init DVC repository\n",
    "\n",
    "1. Init DVC repository and setup DVC remote storage\n",
    "\n",
    "\n",
    "```bash\n",
    "dvc init\n",
    "```\n",
    "\n",
    "3. Add DVC repository under git control\n",
    "\n",
    "```bash\n",
    "git add .\n",
    "git commit -m \"Init DVC repo\"\n",
    "```"
   ]
  },
  {
   "cell_type": "markdown",
   "metadata": {},
   "source": [
    "# View config"
   ]
  },
  {
   "cell_type": "code",
   "execution_count": null,
   "metadata": {
    "ExecuteTime": {
     "end_time": "2020-10-25T10:44:11.302876Z",
     "start_time": "2020-10-25T10:44:11.283582Z"
    },
    "scrolled": true
   },
   "outputs": [],
   "source": [
    "# Look on stages config \n",
    "!cat params.yaml"
   ]
  },
  {
   "cell_type": "markdown",
   "metadata": {},
   "source": [
    "# Create and run stages for a DVC pipeline\n",
    "\n",
    "## Get data\n",
    "\n",
    "```bash\n",
    "dvc stage add -n data_load \\\n",
    "    -d src/stages/data_load.py \\\n",
    "    -o data/raw/iris.csv \\\n",
    "    -p base,data_load \\\n",
    "    python src/stages/data_load.py --config=params.yaml\n",
    "```\n",
    "\n",
    "## Featurization\n",
    "\n",
    "```bash\n",
    "dvc stage add -n featurize \\\n",
    "    -d src/stages/featurize.py \\\n",
    "    -d data/raw/iris.csv \\\n",
    "    -o data/processed/featured_iris.csv \\\n",
    "    -p base,featurize \\\n",
    "    python src/stages/featurize.py --config=params.yaml\n",
    "```\n",
    "\n",
    "## Split dataset into train/test  \n",
    "- Using `dvc.yaml` editing \n",
    "- Copy/Paste lines below\n",
    "\n",
    "```yaml\n",
    "  data_split:\n",
    "    cmd: python src/stages/data_split.py --config=params.yaml\n",
    "    deps:\n",
    "    - data/processed/featured_iris.csv\n",
    "    - src/stages/data_split.py\n",
    "    params:\n",
    "    - base\n",
    "    - data_split\n",
    "    - featurize\n",
    "    outs:\n",
    "    - data/processed/test_iris.csv\n",
    "    - data/processed/train_iris.csv\n",
    "```\n",
    "\n",
    "\n",
    "## TODO \n",
    "\n",
    "- add DVC pipeline stage for `src/stages/train.py`\n",
    "- add DVC pipeline stage for `src/stages/evaluate.py`\n",
    "\n",
    "## Run pipeline\n",
    "\n",
    "```bash\n",
    "dvc repro\n",
    "```"
   ]
  },
  {
   "cell_type": "markdown",
   "metadata": {},
   "source": [
    "# Reproduce pipeline\n",
    "\n",
    "a) Pipeline is up to date. Nothing to reproduce.\n",
    "\n",
    "```bash\n",
    "dvc repro\n",
    "```\n",
    "\n",
    "b) Use `-f` to forced reproducing of pipeline\n",
    "\n",
    "```bash\n",
    "dvc repro -f\n",
    "```\n"
   ]
  },
  {
   "cell_type": "markdown",
   "metadata": {},
   "source": [
    "# Commit code changes & pipeline\n",
    "```bash\n",
    "git add .\n",
    "git commit -m \"Create DVC pipeline\"\n",
    "```\n"
   ]
  },
  {
   "cell_type": "code",
   "execution_count": null,
   "metadata": {},
   "outputs": [],
   "source": []
  }
 ],
 "metadata": {
  "kernelspec": {
   "display_name": "Python 3 (ipykernel)",
   "language": "python",
   "name": "python3"
  },
  "language_info": {
   "codemirror_mode": {
    "name": "ipython",
    "version": 3
   },
   "file_extension": ".py",
   "mimetype": "text/x-python",
   "name": "python",
   "nbconvert_exporter": "python",
   "pygments_lexer": "ipython3",
   "version": "3.9.4"
  },
  "toc": {
   "base_numbering": 1,
   "nav_menu": {},
   "number_sections": true,
   "sideBar": true,
   "skip_h1_title": false,
   "title_cell": "Table of Contents",
   "title_sidebar": "Contents",
   "toc_cell": false,
   "toc_position": {},
   "toc_section_display": true,
   "toc_window_display": true
  },
  "varInspector": {
   "cols": {
    "lenName": 16,
    "lenType": 16,
    "lenVar": 40
   },
   "kernels_config": {
    "python": {
     "delete_cmd_postfix": "",
     "delete_cmd_prefix": "del ",
     "library": "var_list.py",
     "varRefreshCmd": "print(var_dic_list())"
    },
    "r": {
     "delete_cmd_postfix": ") ",
     "delete_cmd_prefix": "rm(",
     "library": "var_list.r",
     "varRefreshCmd": "cat(var_dic_list()) "
    }
   },
   "types_to_exclude": [
    "module",
    "function",
    "builtin_function_or_method",
    "instance",
    "_Feature"
   ],
   "window_display": false
  }
 },
 "nbformat": 4,
 "nbformat_minor": 4
}
